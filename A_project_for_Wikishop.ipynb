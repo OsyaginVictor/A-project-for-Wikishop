{
  "cells": [
    {
      "cell_type": "markdown",
      "metadata": {
        "id": "view-in-github",
        "colab_type": "text"
      },
      "source": [
        "<a href=\"https://colab.research.google.com/github/OsyaginVictor/A-project-for-Wikishop/blob/main/A_project_for_Wikishop.ipynb\" target=\"_parent\"><img src=\"https://colab.research.google.com/assets/colab-badge.svg\" alt=\"Open In Colab\"/></a>"
      ]
    },
    {
      "cell_type": "markdown",
      "metadata": {
        "id": "zlcUJSiYaEbF"
      },
      "source": [
        "# Проект для «Викишоп»"
      ]
    },
    {
      "cell_type": "markdown",
      "metadata": {
        "id": "xouCt-4RaEbH"
      },
      "source": [
        "Интернет-магазин «Викишоп» запускает новый сервис. Теперь пользователи могут редактировать и дополнять описания товаров, как в вики-сообществах. То есть клиенты предлагают свои правки и комментируют изменения других. Магазину нужен инструмент, который будет искать токсичные комментарии и отправлять их на модерацию.\n",
        "\n",
        "Обучите модель классифицировать комментарии на позитивные и негативные. В вашем распоряжении набор данных с разметкой о токсичности правок.\n",
        "\n",
        "Постройте модель со значением метрики качества *F1* не меньше 0.75.\n",
        "\n",
        "**Инструкция по выполнению проекта**\n",
        "\n",
        "1. Загрузите и подготовьте данные.\n",
        "2. Обучите разные модели.\n",
        "3. Сделайте выводы.\n",
        "\n",
        "Для выполнения проекта применять *BERT* необязательно, но вы можете попробовать.\n",
        "\n",
        "**Описание данных**\n",
        "\n",
        "Данные находятся в файле `toxic_comments.csv`. Столбец *text* в нём содержит текст комментария, а *toxic* — целевой признак."
      ]
    },
    {
      "cell_type": "markdown",
      "metadata": {
        "id": "CqZwdo_caEbH"
      },
      "source": [
        "## Подготовка"
      ]
    },
    {
      "cell_type": "code",
      "execution_count": null,
      "metadata": {
        "id": "OanDViocaEbH",
        "outputId": "e25b0b27-6907-44d1-bef2-9ed97c909632"
      },
      "outputs": [
        {
          "name": "stderr",
          "output_type": "stream",
          "text": [
            "[nltk_data] Downloading package wordnet to /home/jovyan/nltk_data...\n",
            "[nltk_data]   Package wordnet is already up-to-date!\n",
            "[nltk_data] Downloading package punkt to /home/jovyan/nltk_data...\n",
            "[nltk_data]   Package punkt is already up-to-date!\n",
            "[nltk_data] Downloading package omw-1.4 to /home/jovyan/nltk_data...\n",
            "[nltk_data]   Package omw-1.4 is already up-to-date!\n",
            "[nltk_data] Downloading package averaged_perceptron_tagger to\n",
            "[nltk_data]     /home/jovyan/nltk_data...\n",
            "[nltk_data]   Package averaged_perceptron_tagger is already up-to-\n",
            "[nltk_data]       date!\n",
            "[nltk_data] Downloading package stopwords to /home/jovyan/nltk_data...\n",
            "[nltk_data]   Package stopwords is already up-to-date!\n"
          ]
        }
      ],
      "source": [
        "# загрузим нужные библиотеки\n",
        "import os\n",
        "import pandas as pd\n",
        "import numpy as np\n",
        "import re\n",
        "from nltk.stem import WordNetLemmatizer\n",
        "from nltk.corpus import wordnet\n",
        "from sklearn.feature_extraction.text import TfidfVectorizer\n",
        "from nltk.corpus import stopwords as nltk_stopwords\n",
        "from sklearn.model_selection import train_test_split, cross_val_score\n",
        "\n",
        "from sklearn.tree import DecisionTreeClassifier\n",
        "from sklearn.ensemble import RandomForestClassifier\n",
        "from sklearn.linear_model import LogisticRegression\n",
        "from sklearn.metrics import f1_score\n",
        "import matplotlib.pyplot as plt\n",
        "\n",
        "import nltk\n",
        "nltk.download('wordnet')\n",
        "nltk.download('punkt')\n",
        "nltk.download('omw-1.4')\n",
        "nltk.download('averaged_perceptron_tagger')\n",
        "nltk.download('stopwords')\n",
        "\n",
        "from nltk import word_tokenize, sent_tokenize, FreqDist\n",
        "from collections import defaultdict, Counter\n",
        "import string\n",
        "import requests\n",
        "from sklearn.feature_extraction.text import CountVectorizer\n",
        "\n",
        "from tqdm.notebook import tqdm\n",
        "tqdm.pandas()"
      ]
    },
    {
      "cell_type": "code",
      "execution_count": null,
      "metadata": {
        "id": "cCef_2zPaEbJ"
      },
      "outputs": [],
      "source": [
        "df = pd.read_csv('/datasets/toxic_comments.csv', index_col=0)"
      ]
    },
    {
      "cell_type": "code",
      "execution_count": null,
      "metadata": {
        "id": "Eai-dyO9aEbJ",
        "outputId": "c78a4109-4dd5-47c0-b766-effdd2adde4a"
      },
      "outputs": [
        {
          "name": "stdout",
          "output_type": "stream",
          "text": [
            "Данные\n"
          ]
        },
        {
          "data": {
            "text/html": [
              "<div>\n",
              "<style scoped>\n",
              "    .dataframe tbody tr th:only-of-type {\n",
              "        vertical-align: middle;\n",
              "    }\n",
              "\n",
              "    .dataframe tbody tr th {\n",
              "        vertical-align: top;\n",
              "    }\n",
              "\n",
              "    .dataframe thead th {\n",
              "        text-align: right;\n",
              "    }\n",
              "</style>\n",
              "<table border=\"1\" class=\"dataframe\">\n",
              "  <thead>\n",
              "    <tr style=\"text-align: right;\">\n",
              "      <th></th>\n",
              "      <th>text</th>\n",
              "      <th>toxic</th>\n",
              "    </tr>\n",
              "  </thead>\n",
              "  <tbody>\n",
              "    <tr>\n",
              "      <th>0</th>\n",
              "      <td>Explanation\\nWhy the edits made under my usern...</td>\n",
              "      <td>0</td>\n",
              "    </tr>\n",
              "    <tr>\n",
              "      <th>1</th>\n",
              "      <td>D'aww! He matches this background colour I'm s...</td>\n",
              "      <td>0</td>\n",
              "    </tr>\n",
              "    <tr>\n",
              "      <th>2</th>\n",
              "      <td>Hey man, I'm really not trying to edit war. It...</td>\n",
              "      <td>0</td>\n",
              "    </tr>\n",
              "    <tr>\n",
              "      <th>3</th>\n",
              "      <td>\"\\nMore\\nI can't make any real suggestions on ...</td>\n",
              "      <td>0</td>\n",
              "    </tr>\n",
              "    <tr>\n",
              "      <th>4</th>\n",
              "      <td>You, sir, are my hero. Any chance you remember...</td>\n",
              "      <td>0</td>\n",
              "    </tr>\n",
              "    <tr>\n",
              "      <th>5</th>\n",
              "      <td>\"\\n\\nCongratulations from me as well, use the ...</td>\n",
              "      <td>0</td>\n",
              "    </tr>\n",
              "    <tr>\n",
              "      <th>6</th>\n",
              "      <td>COCKSUCKER BEFORE YOU PISS AROUND ON MY WORK</td>\n",
              "      <td>1</td>\n",
              "    </tr>\n",
              "    <tr>\n",
              "      <th>7</th>\n",
              "      <td>Your vandalism to the Matt Shirvington article...</td>\n",
              "      <td>0</td>\n",
              "    </tr>\n",
              "  </tbody>\n",
              "</table>\n",
              "</div>"
            ],
            "text/plain": [
              "                                                text  toxic\n",
              "0  Explanation\\nWhy the edits made under my usern...      0\n",
              "1  D'aww! He matches this background colour I'm s...      0\n",
              "2  Hey man, I'm really not trying to edit war. It...      0\n",
              "3  \"\\nMore\\nI can't make any real suggestions on ...      0\n",
              "4  You, sir, are my hero. Any chance you remember...      0\n",
              "5  \"\\n\\nCongratulations from me as well, use the ...      0\n",
              "6       COCKSUCKER BEFORE YOU PISS AROUND ON MY WORK      1\n",
              "7  Your vandalism to the Matt Shirvington article...      0"
            ]
          },
          "metadata": {},
          "output_type": "display_data"
        },
        {
          "name": "stdout",
          "output_type": "stream",
          "text": [
            "\n",
            "\n",
            "Размер датасета: (159292, 2)\n",
            "\n",
            "\n",
            "Информация\n",
            "\n",
            "<class 'pandas.core.frame.DataFrame'>\n",
            "Int64Index: 159292 entries, 0 to 159450\n",
            "Data columns (total 2 columns):\n",
            " #   Column  Non-Null Count   Dtype \n",
            "---  ------  --------------   ----- \n",
            " 0   text    159292 non-null  object\n",
            " 1   toxic   159292 non-null  int64 \n",
            "dtypes: int64(1), object(1)\n",
            "memory usage: 3.6+ MB\n",
            "None\n",
            "\n",
            "\n",
            "Описание\n",
            "\n",
            "               toxic\n",
            "count  159292.000000\n",
            "mean        0.101612\n",
            "std         0.302139\n",
            "min         0.000000\n",
            "25%         0.000000\n",
            "50%         0.000000\n",
            "75%         0.000000\n",
            "max         1.000000\n"
          ]
        }
      ],
      "source": [
        "print('Данные')\n",
        "display(df.head(8))\n",
        "print('\\n')\n",
        "print('Размер датасета:', df.shape)\n",
        "print('\\n')\n",
        "print('Информация\\n')\n",
        "print(df.info())\n",
        "print('\\n')\n",
        "print('Описание\\n')\n",
        "print(df.describe())"
      ]
    },
    {
      "cell_type": "markdown",
      "metadata": {
        "id": "0Q5FTSxgaEbJ"
      },
      "source": [
        "Напишем лемматизатор чтобы привести разные формы одного слова к его базовой форме, что облегчает анализ текста и извлечение смысла из него."
      ]
    },
    {
      "cell_type": "code",
      "execution_count": null,
      "metadata": {
        "id": "SObnpqU4aEbJ"
      },
      "outputs": [],
      "source": [
        "lemmatizer = WordNetLemmatizer()"
      ]
    },
    {
      "cell_type": "markdown",
      "metadata": {
        "id": "LrS0ESPhaEbJ"
      },
      "source": [
        "Далее, напишем функцию get_wordnet, которая будет использована для определения части речи (POS - part of speech) слова с помощью библиотеки NLTK (Natural Language Toolkit) и WordNet.\n",
        "\n",
        "Она будет принимать на вход слово word и использует модуль pos_tag из NLTK для определения части речи этого слова. Затем, на основе полученной части речи, функция будет возвращать соответствующий символьный код части речи из WordNet (например, \"J\" для прилагательного, \"N\" для существительного, \"V\" для глагола, \"R\" для наречия).\n",
        "\n",
        "Если часть речи слова не соответствует ни одному из указанных кодов, функция по умолчанию возвращает код для существительного (wordnet.NOUN)."
      ]
    },
    {
      "cell_type": "code",
      "execution_count": null,
      "metadata": {
        "id": "SrLdCFIwaEbK"
      },
      "outputs": [],
      "source": [
        "def get_wordnet(word):\n",
        "    tag = nltk.pos_tag([word])[0][1][0].upper()\n",
        "    tag_dict = {\"J\": wordnet.ADJ,\n",
        "                \"N\": wordnet.NOUN,\n",
        "                \"V\": wordnet.VERB,\n",
        "                \"R\": wordnet.ADV}\n",
        "    return tag_dict.get(tag, wordnet.NOUN)"
      ]
    },
    {
      "cell_type": "markdown",
      "metadata": {
        "id": "x8_eYMjdaEbK"
      },
      "source": [
        "Теперь напишем функцию, которая будет выполнять очистку текста от лишних символов, лемматизацию слов и возвращать текст с лемматизированными словами."
      ]
    },
    {
      "cell_type": "code",
      "execution_count": null,
      "metadata": {
        "id": "AfqKPD_baEbK"
      },
      "outputs": [],
      "source": [
        "def clear(text):\n",
        "    reg = re.sub(r'[^a-zA-Z]', ' ', text)\n",
        "    clear = reg.split()\n",
        "    lemm = []\n",
        "\n",
        "    for i in range(len(clear)):\n",
        "      lemm.append(lemmatizer.lemmatize(clear[i], get_wordnet(clear[i])))\n",
        "    return \" \".join(lemm)"
      ]
    },
    {
      "cell_type": "markdown",
      "metadata": {
        "id": "1RRseYSRaEbK"
      },
      "source": [
        "Так же, применим функцию к столбцу \"text\" с целью создания нового столбца, в котором будет содержаться лемматизированный текст."
      ]
    },
    {
      "cell_type": "code",
      "execution_count": null,
      "metadata": {
        "id": "8PKlrVf5aEbK"
      },
      "outputs": [],
      "source": [
        "df['text'] = df['text'].str.lower()"
      ]
    },
    {
      "cell_type": "code",
      "execution_count": null,
      "metadata": {
        "id": "ONj1rWzmaEbK",
        "outputId": "195d9e51-ba7c-463b-ec9e-df2f74121b3f",
        "colab": {
          "referenced_widgets": [
            "bdfcb817a953461db62c7c449f889c58"
          ]
        }
      },
      "outputs": [
        {
          "data": {
            "application/vnd.jupyter.widget-view+json": {
              "model_id": "bdfcb817a953461db62c7c449f889c58",
              "version_major": 2,
              "version_minor": 0
            },
            "text/plain": [
              "  0%|          | 0/159292 [00:00<?, ?it/s]"
            ]
          },
          "metadata": {},
          "output_type": "display_data"
        }
      ],
      "source": [
        "df['lemmatized_text'] = df['text'].progress_apply(clear)"
      ]
    },
    {
      "cell_type": "code",
      "execution_count": null,
      "metadata": {
        "id": "7__7X045aEbK",
        "outputId": "8dac135e-afa8-40f8-e09c-46745f9ff830"
      },
      "outputs": [
        {
          "data": {
            "text/html": [
              "<div>\n",
              "<style scoped>\n",
              "    .dataframe tbody tr th:only-of-type {\n",
              "        vertical-align: middle;\n",
              "    }\n",
              "\n",
              "    .dataframe tbody tr th {\n",
              "        vertical-align: top;\n",
              "    }\n",
              "\n",
              "    .dataframe thead th {\n",
              "        text-align: right;\n",
              "    }\n",
              "</style>\n",
              "<table border=\"1\" class=\"dataframe\">\n",
              "  <thead>\n",
              "    <tr style=\"text-align: right;\">\n",
              "      <th></th>\n",
              "      <th>text</th>\n",
              "      <th>toxic</th>\n",
              "      <th>lemmatized_text</th>\n",
              "    </tr>\n",
              "  </thead>\n",
              "  <tbody>\n",
              "    <tr>\n",
              "      <th>0</th>\n",
              "      <td>explanation\\nwhy the edits made under my usern...</td>\n",
              "      <td>0</td>\n",
              "      <td>explanation why the edits make under my userna...</td>\n",
              "    </tr>\n",
              "    <tr>\n",
              "      <th>1</th>\n",
              "      <td>d'aww! he matches this background colour i'm s...</td>\n",
              "      <td>0</td>\n",
              "      <td>d aww he match this background colour i m seem...</td>\n",
              "    </tr>\n",
              "    <tr>\n",
              "      <th>2</th>\n",
              "      <td>hey man, i'm really not trying to edit war. it...</td>\n",
              "      <td>0</td>\n",
              "      <td>hey man i m really not try to edit war it s ju...</td>\n",
              "    </tr>\n",
              "    <tr>\n",
              "      <th>3</th>\n",
              "      <td>\"\\nmore\\ni can't make any real suggestions on ...</td>\n",
              "      <td>0</td>\n",
              "      <td>more i can t make any real suggestion on impro...</td>\n",
              "    </tr>\n",
              "    <tr>\n",
              "      <th>4</th>\n",
              "      <td>you, sir, are my hero. any chance you remember...</td>\n",
              "      <td>0</td>\n",
              "      <td>you sir be my hero any chance you remember wha...</td>\n",
              "    </tr>\n",
              "  </tbody>\n",
              "</table>\n",
              "</div>"
            ],
            "text/plain": [
              "                                                text  toxic  \\\n",
              "0  explanation\\nwhy the edits made under my usern...      0   \n",
              "1  d'aww! he matches this background colour i'm s...      0   \n",
              "2  hey man, i'm really not trying to edit war. it...      0   \n",
              "3  \"\\nmore\\ni can't make any real suggestions on ...      0   \n",
              "4  you, sir, are my hero. any chance you remember...      0   \n",
              "\n",
              "                                     lemmatized_text  \n",
              "0  explanation why the edits make under my userna...  \n",
              "1  d aww he match this background colour i m seem...  \n",
              "2  hey man i m really not try to edit war it s ju...  \n",
              "3  more i can t make any real suggestion on impro...  \n",
              "4  you sir be my hero any chance you remember wha...  "
            ]
          },
          "execution_count": 9,
          "metadata": {},
          "output_type": "execute_result"
        }
      ],
      "source": [
        "df.head()"
      ]
    },
    {
      "cell_type": "markdown",
      "metadata": {
        "id": "-N7ci1ikaEbL"
      },
      "source": [
        "Выделим токсичные комментарии в отдельную переменную"
      ]
    },
    {
      "cell_type": "code",
      "execution_count": null,
      "metadata": {
        "id": "UcAWpIpwaEbL"
      },
      "outputs": [],
      "source": [
        "toxic = df[df['toxic'] ==1]"
      ]
    },
    {
      "cell_type": "code",
      "execution_count": null,
      "metadata": {
        "id": "3I102cM9aEbL",
        "outputId": "5d2127dc-4210-4ef1-98c1-f501629c30e5"
      },
      "outputs": [
        {
          "data": {
            "text/html": [
              "<div>\n",
              "<style scoped>\n",
              "    .dataframe tbody tr th:only-of-type {\n",
              "        vertical-align: middle;\n",
              "    }\n",
              "\n",
              "    .dataframe tbody tr th {\n",
              "        vertical-align: top;\n",
              "    }\n",
              "\n",
              "    .dataframe thead th {\n",
              "        text-align: right;\n",
              "    }\n",
              "</style>\n",
              "<table border=\"1\" class=\"dataframe\">\n",
              "  <thead>\n",
              "    <tr style=\"text-align: right;\">\n",
              "      <th></th>\n",
              "      <th>text</th>\n",
              "      <th>toxic</th>\n",
              "      <th>lemmatized_text</th>\n",
              "    </tr>\n",
              "  </thead>\n",
              "  <tbody>\n",
              "    <tr>\n",
              "      <th>6</th>\n",
              "      <td>cocksucker before you piss around on my work</td>\n",
              "      <td>1</td>\n",
              "      <td>cocksucker before you piss around on my work</td>\n",
              "    </tr>\n",
              "    <tr>\n",
              "      <th>12</th>\n",
              "      <td>hey... what is it..\\n@ | talk .\\nwhat is it......</td>\n",
              "      <td>1</td>\n",
              "      <td>hey what be it talk what be it an exclusive gr...</td>\n",
              "    </tr>\n",
              "    <tr>\n",
              "      <th>16</th>\n",
              "      <td>bye! \\n\\ndon't look, come or think of comming ...</td>\n",
              "      <td>1</td>\n",
              "      <td>bye don t look come or think of comming back t...</td>\n",
              "    </tr>\n",
              "    <tr>\n",
              "      <th>42</th>\n",
              "      <td>you are gay or antisemmitian? \\n\\narchangel wh...</td>\n",
              "      <td>1</td>\n",
              "      <td>you be gay or antisemmitian archangel white ti...</td>\n",
              "    </tr>\n",
              "    <tr>\n",
              "      <th>43</th>\n",
              "      <td>fuck your filthy mother in the ass, dry!</td>\n",
              "      <td>1</td>\n",
              "      <td>fuck your filthy mother in the as dry</td>\n",
              "    </tr>\n",
              "  </tbody>\n",
              "</table>\n",
              "</div>"
            ],
            "text/plain": [
              "                                                 text  toxic  \\\n",
              "6        cocksucker before you piss around on my work      1   \n",
              "12  hey... what is it..\\n@ | talk .\\nwhat is it......      1   \n",
              "16  bye! \\n\\ndon't look, come or think of comming ...      1   \n",
              "42  you are gay or antisemmitian? \\n\\narchangel wh...      1   \n",
              "43           fuck your filthy mother in the ass, dry!      1   \n",
              "\n",
              "                                      lemmatized_text  \n",
              "6        cocksucker before you piss around on my work  \n",
              "12  hey what be it talk what be it an exclusive gr...  \n",
              "16  bye don t look come or think of comming back t...  \n",
              "42  you be gay or antisemmitian archangel white ti...  \n",
              "43              fuck your filthy mother in the as dry  "
            ]
          },
          "execution_count": 11,
          "metadata": {},
          "output_type": "execute_result"
        }
      ],
      "source": [
        "toxic.head()"
      ]
    },
    {
      "cell_type": "markdown",
      "metadata": {
        "id": "jY_W7uG8aEbL"
      },
      "source": [
        "Создадим переменную corpus,которая будет содержать подготовленный текстовый корпус, который будет использоваться для создания мешка слов."
      ]
    },
    {
      "cell_type": "code",
      "execution_count": null,
      "metadata": {
        "id": "YFJo8P7HaEbL"
      },
      "outputs": [],
      "source": [
        "corpus = list(toxic['lemmatized_text'])"
      ]
    },
    {
      "cell_type": "markdown",
      "metadata": {
        "id": "BBpOZb6SaEbL"
      },
      "source": [
        "Далее:\n",
        "1. Сформируем множество стоп-слов для английского языка с использованием библиотеки NLTK.\n",
        "2. Создадим экземпляр класса CountVectorizer, который используется для преобразования корпуса текстов в мешок слов.\n",
        "3. Устанавливим максимальное количество признаков в 25 наиболее часто встречающихся слов.\n",
        "4. Передадим множество стоп-слов в экземпляр CountVectorizer для исключения их из мешка слов.\n",
        "5. Выполним преобразование корпуса текстов в мешок слов (bag of words) с помощью функции fit_transform(), которая выделяет уникальные слова из корпуса и подсчитывает количество их вхождений в каждом тексте корпуса.\n",
        "6. Вызовем словарь методом get_feature_names()"
      ]
    },
    {
      "cell_type": "code",
      "execution_count": null,
      "metadata": {
        "id": "6g3bVmknaEbL"
      },
      "outputs": [],
      "source": [
        "stop_words = set(nltk_stopwords.words('english'))\n",
        "count_vect = CountVectorizer(max_features=25, stop_words=stop_words)\n",
        "bag_of_words = count_vect.fit_transform(corpus)"
      ]
    },
    {
      "cell_type": "code",
      "execution_count": null,
      "metadata": {
        "id": "U8R3_ClsaEbL",
        "outputId": "3ed44f27-31a7-4d6c-b47c-854b7dc92780"
      },
      "outputs": [
        {
          "data": {
            "text/plain": [
              "['article',\n",
              " 'bitch',\n",
              " 'block',\n",
              " 'cunt',\n",
              " 'die',\n",
              " 'faggot',\n",
              " 'fat',\n",
              " 'fuck',\n",
              " 'gay',\n",
              " 'get',\n",
              " 'go',\n",
              " 'hate',\n",
              " 'know',\n",
              " 'like',\n",
              " 'make',\n",
              " 'moron',\n",
              " 'nigger',\n",
              " 'page',\n",
              " 'people',\n",
              " 'say',\n",
              " 'shit',\n",
              " 'suck',\n",
              " 'talk',\n",
              " 'user',\n",
              " 'wikipedia']"
            ]
          },
          "execution_count": 14,
          "metadata": {},
          "output_type": "execute_result"
        }
      ],
      "source": [
        "count_vect.get_feature_names()"
      ]
    },
    {
      "cell_type": "markdown",
      "metadata": {
        "id": "HtBycWrJaEbL"
      },
      "source": [
        "Теперь выделим переменную без токсичных комментариев"
      ]
    },
    {
      "cell_type": "code",
      "execution_count": null,
      "metadata": {
        "id": "S7GmIVj8aEbL"
      },
      "outputs": [],
      "source": [
        "nontoxic_lem = df[df['toxic'] == 0]"
      ]
    },
    {
      "cell_type": "code",
      "execution_count": null,
      "metadata": {
        "id": "KyJZzEWyaEbM",
        "outputId": "b9baf722-5463-4aec-d898-80780f5f3978"
      },
      "outputs": [
        {
          "data": {
            "text/html": [
              "<div>\n",
              "<style scoped>\n",
              "    .dataframe tbody tr th:only-of-type {\n",
              "        vertical-align: middle;\n",
              "    }\n",
              "\n",
              "    .dataframe tbody tr th {\n",
              "        vertical-align: top;\n",
              "    }\n",
              "\n",
              "    .dataframe thead th {\n",
              "        text-align: right;\n",
              "    }\n",
              "</style>\n",
              "<table border=\"1\" class=\"dataframe\">\n",
              "  <thead>\n",
              "    <tr style=\"text-align: right;\">\n",
              "      <th></th>\n",
              "      <th>text</th>\n",
              "      <th>toxic</th>\n",
              "      <th>lemmatized_text</th>\n",
              "    </tr>\n",
              "  </thead>\n",
              "  <tbody>\n",
              "    <tr>\n",
              "      <th>0</th>\n",
              "      <td>explanation\\nwhy the edits made under my usern...</td>\n",
              "      <td>0</td>\n",
              "      <td>explanation why the edits make under my userna...</td>\n",
              "    </tr>\n",
              "    <tr>\n",
              "      <th>1</th>\n",
              "      <td>d'aww! he matches this background colour i'm s...</td>\n",
              "      <td>0</td>\n",
              "      <td>d aww he match this background colour i m seem...</td>\n",
              "    </tr>\n",
              "    <tr>\n",
              "      <th>2</th>\n",
              "      <td>hey man, i'm really not trying to edit war. it...</td>\n",
              "      <td>0</td>\n",
              "      <td>hey man i m really not try to edit war it s ju...</td>\n",
              "    </tr>\n",
              "    <tr>\n",
              "      <th>3</th>\n",
              "      <td>\"\\nmore\\ni can't make any real suggestions on ...</td>\n",
              "      <td>0</td>\n",
              "      <td>more i can t make any real suggestion on impro...</td>\n",
              "    </tr>\n",
              "    <tr>\n",
              "      <th>4</th>\n",
              "      <td>you, sir, are my hero. any chance you remember...</td>\n",
              "      <td>0</td>\n",
              "      <td>you sir be my hero any chance you remember wha...</td>\n",
              "    </tr>\n",
              "  </tbody>\n",
              "</table>\n",
              "</div>"
            ],
            "text/plain": [
              "                                                text  toxic  \\\n",
              "0  explanation\\nwhy the edits made under my usern...      0   \n",
              "1  d'aww! he matches this background colour i'm s...      0   \n",
              "2  hey man, i'm really not trying to edit war. it...      0   \n",
              "3  \"\\nmore\\ni can't make any real suggestions on ...      0   \n",
              "4  you, sir, are my hero. any chance you remember...      0   \n",
              "\n",
              "                                     lemmatized_text  \n",
              "0  explanation why the edits make under my userna...  \n",
              "1  d aww he match this background colour i m seem...  \n",
              "2  hey man i m really not try to edit war it s ju...  \n",
              "3  more i can t make any real suggestion on impro...  \n",
              "4  you sir be my hero any chance you remember wha...  "
            ]
          },
          "execution_count": 16,
          "metadata": {},
          "output_type": "execute_result"
        }
      ],
      "source": [
        "nontoxic_lem.head()"
      ]
    },
    {
      "cell_type": "markdown",
      "metadata": {
        "id": "ADuByHeaaEbM"
      },
      "source": [
        "Теперь, проделаем такую же операцию с нетоксичными комментариями"
      ]
    },
    {
      "cell_type": "code",
      "execution_count": null,
      "metadata": {
        "id": "2rH1nPsGaEbM"
      },
      "outputs": [],
      "source": [
        "corpus = list(nontoxic_lem['lemmatized_text'])\n",
        "stop_words = set(nltk_stopwords.words('english'))\n",
        "count_vect = CountVectorizer(max_features=25, stop_words=stop_words)\n",
        "bag_of_words = count_vect.fit_transform(corpus)"
      ]
    },
    {
      "cell_type": "code",
      "execution_count": null,
      "metadata": {
        "id": "fRcG2Z_IaEbM",
        "outputId": "78a3371b-11c0-481d-a428-d8075c20a39a"
      },
      "outputs": [
        {
          "data": {
            "text/plain": [
              "['add',\n",
              " 'also',\n",
              " 'article',\n",
              " 'edit',\n",
              " 'get',\n",
              " 'go',\n",
              " 'know',\n",
              " 'like',\n",
              " 'make',\n",
              " 'may',\n",
              " 'one',\n",
              " 'page',\n",
              " 'people',\n",
              " 'please',\n",
              " 'say',\n",
              " 'see',\n",
              " 'source',\n",
              " 'talk',\n",
              " 'think',\n",
              " 'time',\n",
              " 'use',\n",
              " 'user',\n",
              " 'well',\n",
              " 'wikipedia',\n",
              " 'would']"
            ]
          },
          "execution_count": 18,
          "metadata": {},
          "output_type": "execute_result"
        }
      ],
      "source": [
        "count_vect.get_feature_names()"
      ]
    },
    {
      "cell_type": "markdown",
      "metadata": {
        "id": "zeyj_yH6aEbM"
      },
      "source": [
        "#### Подвывод"
      ]
    },
    {
      "cell_type": "markdown",
      "metadata": {
        "id": "JUH91ZEmaEbM"
      },
      "source": [
        "Мы удалили лишний столбец, провели очистку данных, отметили части речи и привели слова к их начальным формам (лемматизировали). Добавили столбец с лемматизированным текстом.\n",
        "\n",
        "Создали мешок слов для каждого класса и определили наиболее часто встречающиеся слова в каждом из них.\n",
        "\n",
        "Дальше, выделим целевой признак и приступим к обучении."
      ]
    },
    {
      "cell_type": "markdown",
      "metadata": {
        "id": "z-8a4ghQaEbM"
      },
      "source": [
        "## Обучение"
      ]
    },
    {
      "cell_type": "markdown",
      "metadata": {
        "id": "wVAYqJtoaEbM"
      },
      "source": [
        "Выделим целевой признак"
      ]
    },
    {
      "cell_type": "code",
      "execution_count": null,
      "metadata": {
        "id": "ExZqWhAkaEbM"
      },
      "outputs": [],
      "source": [
        "target = df['toxic']\n",
        "features = df['lemmatized_text']"
      ]
    },
    {
      "cell_type": "markdown",
      "metadata": {
        "id": "sZ-VB3L1aEbM"
      },
      "source": [
        "Разделим датасет на обучающую и тестовую выборки."
      ]
    },
    {
      "cell_type": "code",
      "execution_count": null,
      "metadata": {
        "id": "Tpy5pgEuaEbM"
      },
      "outputs": [],
      "source": [
        "features_train, features_test, target_train, target_test = train_test_split(\n",
        "    features, target, test_size=0.4, random_state=12345, stratify=target)\n",
        "\n",
        "features_valid, features_test, target_valid, target_test = train_test_split(\n",
        "    features_test, target_test, test_size=0.5, random_state=12345, stratify=target_test)"
      ]
    },
    {
      "cell_type": "markdown",
      "metadata": {
        "id": "-uo9I4bxaEbN"
      },
      "source": [
        "Преобразуем набор текстовых документов в матрицу TF-IDF признаков, используя установленные стоп-слова для фильтрации ненужных слов."
      ]
    },
    {
      "cell_type": "code",
      "execution_count": null,
      "metadata": {
        "id": "9FZe3Vv6aEbN"
      },
      "outputs": [],
      "source": [
        "stopwords = set(nltk_stopwords.words('english'))\n",
        "count_tf_idf = TfidfVectorizer(stop_words=stopwords)"
      ]
    },
    {
      "cell_type": "markdown",
      "metadata": {
        "id": "WI11yPYTaEbN"
      },
      "source": [
        "Векторизуем данные с учетом стоп-слов. Применим метод fit к обычающей выборке, а затем метод transform к обучающему и тестовому набору данных."
      ]
    },
    {
      "cell_type": "code",
      "execution_count": null,
      "metadata": {
        "id": "k6J9MXR-aEbN"
      },
      "outputs": [],
      "source": [
        "train_tf_idf = count_tf_idf.fit_transform(features_train)\n",
        "valid_tf_idf = count_tf_idf.transform(features_valid)\n",
        "test_tf_idf = count_tf_idf.transform(features_test)"
      ]
    },
    {
      "cell_type": "markdown",
      "metadata": {
        "id": "wiKTTwZPaEbN"
      },
      "source": [
        "### Приступим к обучении моделей"
      ]
    },
    {
      "cell_type": "markdown",
      "metadata": {
        "id": "jc8VmAekaEbN"
      },
      "source": [
        "#### Логистическая регрессия"
      ]
    },
    {
      "cell_type": "code",
      "execution_count": null,
      "metadata": {
        "id": "RClag0TRaEbO",
        "outputId": "4dfcc82c-a5ae-4746-baaf-9d2ff83e27c9"
      },
      "outputs": [
        {
          "name": "stdout",
          "output_type": "stream",
          "text": [
            "Значение С: 1\n",
            "F1_score: 0.7498640565524742\n",
            "\n",
            "Значение С: 2\n",
            "F1_score: 0.7590027700831026\n",
            "\n",
            "Значение С: 3\n",
            "F1_score: 0.7587363712608332\n",
            "\n",
            "Значение С: 4\n",
            "F1_score: 0.7594259988745077\n",
            "\n",
            "Значение С: 5\n",
            "F1_score: 0.7599943494843905\n",
            "\n",
            "Значение С: 6\n",
            "F1_score: 0.7625674524282875\n",
            "\n",
            "Значение С: 7\n",
            "F1_score: 0.7631278538812786\n",
            "\n",
            "Значение С: 8\n",
            "F1_score: 0.7632559472628261\n",
            "\n",
            "Значение С: 9\n",
            "F1_score: 0.762451557341754\n",
            "\n",
            "\n"
          ]
        }
      ],
      "source": [
        "for c in range(1, 10):\n",
        "    model = LogisticRegression(class_weight='balanced',\n",
        "                          random_state=12345,\n",
        "                          max_iter=1000,\n",
        "                          solver='lbfgs',\n",
        "                               C=c)\n",
        "\n",
        "    model.fit(train_tf_idf, target_train)\n",
        "    predicted_valid = model.predict(valid_tf_idf)\n",
        "    print (\"Значение С:\", c)\n",
        "    print(\"F1_score:\", f1_score(target_valid, predicted_valid))\n",
        "    print('')\n",
        "print()"
      ]
    },
    {
      "cell_type": "markdown",
      "metadata": {
        "id": "_fzpADNdaEbO"
      },
      "source": [
        "#### Случайный лес"
      ]
    },
    {
      "cell_type": "code",
      "execution_count": null,
      "metadata": {
        "id": "TgpVbNEnaEbP",
        "outputId": "f58f6879-704f-4097-af9e-bf2b856e6ec9"
      },
      "outputs": [
        {
          "name": "stdout",
          "output_type": "stream",
          "text": [
            "Глубина: 3\n",
            "F1_score: 0.3275575599335391\n",
            "\n",
            "Глубина: 6\n",
            "F1_score: 0.3862810841017044\n",
            "\n",
            "Глубина: 9\n",
            "F1_score: 0.38968360228313714\n",
            "\n",
            "Глубина: 12\n",
            "F1_score: 0.38957011980267797\n",
            "\n",
            "Глубина: 15\n",
            "F1_score: 0.38963423245304335\n",
            "\n",
            "Глубина: 18\n",
            "F1_score: 0.4058849622948396\n",
            "\n",
            "\n"
          ]
        }
      ],
      "source": [
        "for depth in range(3, 20, 3):\n",
        "    model = RandomForestClassifier(random_state=12345,\n",
        "                                   max_depth = depth,\n",
        "                                   class_weight='balanced')\n",
        "    model.fit(train_tf_idf, target_train)\n",
        "    predicted_valid = model.predict(valid_tf_idf)\n",
        "    print('Глубина:', depth)\n",
        "    print(\"F1_score:\", f1_score(target_valid, predicted_valid))\n",
        "    print('')\n",
        "print()"
      ]
    },
    {
      "cell_type": "code",
      "execution_count": null,
      "metadata": {
        "id": "g5i0GHw-aEbP",
        "outputId": "ca4a7226-1245-4471-98ff-6abeff373e5a"
      },
      "outputs": [
        {
          "name": "stdout",
          "output_type": "stream",
          "text": [
            "F1_score: 0.7514910536779323\n"
          ]
        }
      ],
      "source": [
        "model = LogisticRegression(class_weight='balanced',\n",
        "                          random_state=12345,\n",
        "                          max_iter=1000,\n",
        "                          solver='lbfgs',\n",
        "                          C=8)\n",
        "\n",
        "features_train_lr = pd.concat([features_train, features_valid])\n",
        "target_train_lr = pd.concat([target_train, target_valid])\n",
        "\n",
        "features_train_tf_idf = count_tf_idf.fit_transform(features_train_lr)\n",
        "features_test_tf_idf = count_tf_idf.transform(features_test)\n",
        "model.fit(features_train_tf_idf, target_train_lr)\n",
        "predicted_test = model.predict(features_test_tf_idf)\n",
        "print(\"F1_score:\", f1_score(target_test, predicted_test))"
      ]
    },
    {
      "cell_type": "markdown",
      "metadata": {
        "id": "ig0yvzCVaEbP"
      },
      "source": [
        "## Выводы"
      ]
    },
    {
      "cell_type": "markdown",
      "metadata": {
        "id": "ccBBGaWoaEbP"
      },
      "source": [
        "Была проведена предобработка данных, включающая разметку частей речи и лемматизацию слов (приведение их к начальным формам). Был создан столбец с лемматизированным текстом.\n",
        "\n",
        "После этого был построен мешок слов для каждого класса и были выявлены наиболее употребимые слова в каждом из них.\n",
        "\n",
        "После обучения моделей с подбором гиперпараметров лучший результат показала модель логистической регрессии. Значение F1-меры на тестовой выборке составило 0,75."
      ]
    }
  ],
  "metadata": {
    "ExecuteTimeLog": [
      {
        "duration": 2552,
        "start_time": "2024-04-26T17:43:32.491Z"
      },
      {
        "duration": 3284,
        "start_time": "2024-04-26T17:44:16.291Z"
      },
      {
        "duration": 14,
        "start_time": "2024-04-26T17:44:27.272Z"
      },
      {
        "duration": 49,
        "start_time": "2024-04-26T17:47:12.289Z"
      },
      {
        "duration": 168,
        "start_time": "2024-04-26T17:52:06.231Z"
      },
      {
        "duration": 2641,
        "start_time": "2024-04-26T17:52:13.241Z"
      },
      {
        "duration": 7,
        "start_time": "2024-04-26T17:52:42.919Z"
      },
      {
        "duration": 2,
        "start_time": "2024-04-26T17:56:13.511Z"
      },
      {
        "duration": 2191,
        "start_time": "2024-04-26T17:56:53.828Z"
      },
      {
        "duration": 0,
        "start_time": "2024-04-26T17:56:56.022Z"
      },
      {
        "duration": 2802,
        "start_time": "2024-04-26T17:57:31.895Z"
      },
      {
        "duration": 0,
        "start_time": "2024-04-26T17:57:34.699Z"
      },
      {
        "duration": 0,
        "start_time": "2024-04-26T17:57:34.699Z"
      },
      {
        "duration": 0,
        "start_time": "2024-04-26T17:57:34.701Z"
      },
      {
        "duration": 0,
        "start_time": "2024-04-26T17:57:34.702Z"
      },
      {
        "duration": 0,
        "start_time": "2024-04-26T17:57:34.703Z"
      },
      {
        "duration": 0,
        "start_time": "2024-04-26T17:57:34.704Z"
      },
      {
        "duration": 2689,
        "start_time": "2024-04-26T17:58:07.683Z"
      },
      {
        "duration": 2318,
        "start_time": "2024-04-26T17:58:10.374Z"
      },
      {
        "duration": 59,
        "start_time": "2024-04-26T17:58:12.693Z"
      },
      {
        "duration": 2685,
        "start_time": "2024-04-26T17:58:12.753Z"
      },
      {
        "duration": 15,
        "start_time": "2024-04-26T17:58:15.440Z"
      },
      {
        "duration": 3468,
        "start_time": "2024-04-26T17:58:32.452Z"
      },
      {
        "duration": 3408,
        "start_time": "2024-04-26T17:58:35.922Z"
      },
      {
        "duration": 70,
        "start_time": "2024-04-26T17:58:39.332Z"
      },
      {
        "duration": 2851,
        "start_time": "2024-04-26T17:58:39.405Z"
      },
      {
        "duration": 21,
        "start_time": "2024-04-26T17:58:42.258Z"
      },
      {
        "duration": 1467,
        "start_time": "2024-04-26T17:59:30.077Z"
      },
      {
        "duration": 3358,
        "start_time": "2024-04-26T17:59:31.546Z"
      },
      {
        "duration": 57,
        "start_time": "2024-04-26T17:59:34.906Z"
      },
      {
        "duration": 2560,
        "start_time": "2024-04-26T17:59:34.965Z"
      },
      {
        "duration": 7,
        "start_time": "2024-04-26T17:59:37.527Z"
      },
      {
        "duration": 2418,
        "start_time": "2024-04-26T19:34:47.231Z"
      },
      {
        "duration": 3289,
        "start_time": "2024-04-26T19:34:49.651Z"
      },
      {
        "duration": 61,
        "start_time": "2024-04-26T19:34:52.942Z"
      },
      {
        "duration": 2607,
        "start_time": "2024-04-26T19:34:53.005Z"
      },
      {
        "duration": 11,
        "start_time": "2024-04-26T19:34:55.614Z"
      },
      {
        "duration": 49,
        "start_time": "2024-04-26T19:34:55.627Z"
      },
      {
        "duration": 27,
        "start_time": "2024-04-26T19:34:55.678Z"
      },
      {
        "duration": 50,
        "start_time": "2024-04-26T19:45:53.765Z"
      },
      {
        "duration": 2650,
        "start_time": "2024-04-26T19:46:00.074Z"
      },
      {
        "duration": 3360,
        "start_time": "2024-04-26T19:46:02.726Z"
      },
      {
        "duration": 71,
        "start_time": "2024-04-26T19:46:06.088Z"
      },
      {
        "duration": 2695,
        "start_time": "2024-04-26T19:46:06.162Z"
      },
      {
        "duration": 14,
        "start_time": "2024-04-26T19:46:08.859Z"
      },
      {
        "duration": 10,
        "start_time": "2024-04-26T19:46:08.875Z"
      },
      {
        "duration": 4,
        "start_time": "2024-04-26T19:46:08.886Z"
      },
      {
        "duration": 9,
        "start_time": "2024-04-26T19:56:26.038Z"
      },
      {
        "duration": 9,
        "start_time": "2024-04-26T19:56:35.131Z"
      },
      {
        "duration": 6,
        "start_time": "2024-04-26T19:56:44.233Z"
      },
      {
        "duration": 2678,
        "start_time": "2024-04-26T19:58:05.735Z"
      },
      {
        "duration": 870,
        "start_time": "2024-04-26T19:58:08.415Z"
      },
      {
        "duration": 59,
        "start_time": "2024-04-26T19:58:09.286Z"
      },
      {
        "duration": 2730,
        "start_time": "2024-04-26T19:58:09.348Z"
      },
      {
        "duration": 12,
        "start_time": "2024-04-26T19:58:12.081Z"
      },
      {
        "duration": 18,
        "start_time": "2024-04-26T19:58:12.095Z"
      },
      {
        "duration": 6,
        "start_time": "2024-04-26T19:58:12.114Z"
      },
      {
        "duration": 4,
        "start_time": "2024-04-26T20:04:50.652Z"
      },
      {
        "duration": 32,
        "start_time": "2024-04-26T20:21:31.598Z"
      },
      {
        "duration": 40,
        "start_time": "2024-04-26T20:34:25.100Z"
      },
      {
        "duration": 179,
        "start_time": "2024-04-26T20:35:52.357Z"
      },
      {
        "duration": 2409,
        "start_time": "2024-04-26T20:36:17.388Z"
      },
      {
        "duration": 3866,
        "start_time": "2024-04-26T20:36:24.461Z"
      },
      {
        "duration": 960,
        "start_time": "2024-04-26T20:36:52.862Z"
      },
      {
        "duration": 3,
        "start_time": "2024-04-26T22:26:40.439Z"
      },
      {
        "duration": 111585,
        "start_time": "2024-04-26T22:27:39.908Z"
      },
      {
        "duration": 29482,
        "start_time": "2024-04-26T22:47:02.508Z"
      },
      {
        "duration": 2634,
        "start_time": "2024-04-26T22:51:09.407Z"
      },
      {
        "duration": 3314,
        "start_time": "2024-04-26T22:51:12.043Z"
      },
      {
        "duration": 58,
        "start_time": "2024-04-26T22:51:15.358Z"
      },
      {
        "duration": 2535,
        "start_time": "2024-04-26T22:51:15.417Z"
      },
      {
        "duration": 9,
        "start_time": "2024-04-26T22:51:17.954Z"
      },
      {
        "duration": 7,
        "start_time": "2024-04-26T22:51:17.969Z"
      },
      {
        "duration": 6,
        "start_time": "2024-04-26T22:51:17.977Z"
      },
      {
        "duration": 26,
        "start_time": "2024-04-26T22:51:17.984Z"
      },
      {
        "duration": 2353,
        "start_time": "2024-04-26T22:51:18.012Z"
      },
      {
        "duration": 3297,
        "start_time": "2024-04-26T22:51:20.370Z"
      },
      {
        "duration": 880,
        "start_time": "2024-04-26T22:51:23.668Z"
      },
      {
        "duration": 3,
        "start_time": "2024-04-26T22:51:24.549Z"
      },
      {
        "duration": 109466,
        "start_time": "2024-04-26T22:51:24.554Z"
      },
      {
        "duration": 27626,
        "start_time": "2024-04-26T22:53:14.023Z"
      },
      {
        "duration": 49,
        "start_time": "2024-04-26T23:11:59.052Z"
      },
      {
        "duration": 3054,
        "start_time": "2024-04-26T23:12:07.135Z"
      },
      {
        "duration": 3318,
        "start_time": "2024-04-26T23:12:10.191Z"
      },
      {
        "duration": 61,
        "start_time": "2024-04-26T23:12:13.511Z"
      },
      {
        "duration": 600,
        "start_time": "2024-04-26T23:12:13.573Z"
      },
      {
        "duration": 0,
        "start_time": "2024-04-26T23:12:14.174Z"
      },
      {
        "duration": 0,
        "start_time": "2024-04-26T23:12:14.175Z"
      },
      {
        "duration": 0,
        "start_time": "2024-04-26T23:12:14.176Z"
      },
      {
        "duration": 2641,
        "start_time": "2024-04-26T23:14:20.345Z"
      },
      {
        "duration": 855,
        "start_time": "2024-04-26T23:14:22.987Z"
      },
      {
        "duration": 64,
        "start_time": "2024-04-26T23:14:23.844Z"
      },
      {
        "duration": 77,
        "start_time": "2024-04-26T23:14:23.910Z"
      },
      {
        "duration": 0,
        "start_time": "2024-04-26T23:14:23.989Z"
      },
      {
        "duration": 0,
        "start_time": "2024-04-26T23:14:23.990Z"
      },
      {
        "duration": 0,
        "start_time": "2024-04-26T23:14:23.991Z"
      },
      {
        "duration": 2452,
        "start_time": "2024-04-26T23:14:42.389Z"
      },
      {
        "duration": 13,
        "start_time": "2024-04-26T23:14:46.829Z"
      },
      {
        "duration": 7,
        "start_time": "2024-04-26T23:14:47.681Z"
      },
      {
        "duration": 2597,
        "start_time": "2024-04-26T23:20:04.917Z"
      },
      {
        "duration": 884,
        "start_time": "2024-04-26T23:20:11.352Z"
      },
      {
        "duration": 57,
        "start_time": "2024-04-26T23:20:12.238Z"
      },
      {
        "duration": 2536,
        "start_time": "2024-04-26T23:20:18.997Z"
      },
      {
        "duration": 2,
        "start_time": "2024-04-26T23:21:34.714Z"
      },
      {
        "duration": 4,
        "start_time": "2024-04-26T23:21:52.865Z"
      },
      {
        "duration": 1834,
        "start_time": "2024-04-26T23:23:00.679Z"
      },
      {
        "duration": 821,
        "start_time": "2024-04-26T23:23:02.515Z"
      },
      {
        "duration": 60,
        "start_time": "2024-04-26T23:23:03.337Z"
      },
      {
        "duration": 2,
        "start_time": "2024-04-26T23:23:03.398Z"
      },
      {
        "duration": 4,
        "start_time": "2024-04-26T23:23:03.402Z"
      },
      {
        "duration": 10,
        "start_time": "2024-04-26T23:23:03.407Z"
      },
      {
        "duration": 2094,
        "start_time": "2024-04-26T23:34:48.683Z"
      },
      {
        "duration": 877,
        "start_time": "2024-04-26T23:34:50.779Z"
      },
      {
        "duration": 61,
        "start_time": "2024-04-26T23:34:51.657Z"
      },
      {
        "duration": 13,
        "start_time": "2024-04-26T23:34:51.719Z"
      },
      {
        "duration": 25,
        "start_time": "2024-04-26T23:34:51.733Z"
      },
      {
        "duration": 15,
        "start_time": "2024-04-26T23:34:51.759Z"
      },
      {
        "duration": 47,
        "start_time": "2024-04-26T23:34:51.775Z"
      },
      {
        "duration": 1049927,
        "start_time": "2024-04-26T23:34:51.824Z"
      },
      {
        "duration": 3,
        "start_time": "2024-04-26T23:52:21.752Z"
      },
      {
        "duration": 7,
        "start_time": "2024-04-26T23:54:13.259Z"
      },
      {
        "duration": 26,
        "start_time": "2024-04-26T23:54:56.832Z"
      },
      {
        "duration": 7,
        "start_time": "2024-04-26T23:55:03.642Z"
      },
      {
        "duration": 539,
        "start_time": "2024-04-26T23:55:12.339Z"
      },
      {
        "duration": 4,
        "start_time": "2024-04-26T23:55:20.894Z"
      },
      {
        "duration": 14,
        "start_time": "2024-04-26T23:55:36.458Z"
      },
      {
        "duration": 8,
        "start_time": "2024-04-26T23:55:42.640Z"
      },
      {
        "duration": 6060,
        "start_time": "2024-04-26T23:55:54.085Z"
      },
      {
        "duration": 4,
        "start_time": "2024-04-26T23:56:01.685Z"
      },
      {
        "duration": 84,
        "start_time": "2024-04-26T23:56:26.522Z"
      },
      {
        "duration": 9,
        "start_time": "2024-04-26T23:56:34.700Z"
      },
      {
        "duration": 9,
        "start_time": "2024-04-26T23:56:41.051Z"
      },
      {
        "duration": 4,
        "start_time": "2024-04-26T23:56:50.632Z"
      },
      {
        "duration": 6597,
        "start_time": "2024-04-26T23:56:57.890Z"
      },
      {
        "duration": 3,
        "start_time": "2024-04-26T23:57:08.272Z"
      },
      {
        "duration": 7,
        "start_time": "2024-04-27T08:41:39.802Z"
      },
      {
        "duration": 4903,
        "start_time": "2024-04-27T10:23:00.201Z"
      },
      {
        "duration": 2993,
        "start_time": "2024-04-27T10:23:05.106Z"
      },
      {
        "duration": 42,
        "start_time": "2024-04-27T10:23:08.101Z"
      },
      {
        "duration": 8,
        "start_time": "2024-04-27T10:23:08.145Z"
      },
      {
        "duration": 14,
        "start_time": "2024-04-27T10:23:08.155Z"
      },
      {
        "duration": 11,
        "start_time": "2024-04-27T10:23:08.170Z"
      },
      {
        "duration": 17,
        "start_time": "2024-04-27T10:23:08.182Z"
      },
      {
        "duration": 573,
        "start_time": "2024-04-27T10:23:08.200Z"
      },
      {
        "duration": 0,
        "start_time": "2024-04-27T10:23:08.774Z"
      },
      {
        "duration": 0,
        "start_time": "2024-04-27T10:23:08.775Z"
      },
      {
        "duration": 0,
        "start_time": "2024-04-27T10:23:08.776Z"
      },
      {
        "duration": 0,
        "start_time": "2024-04-27T10:23:08.778Z"
      },
      {
        "duration": 0,
        "start_time": "2024-04-27T10:23:08.778Z"
      },
      {
        "duration": 0,
        "start_time": "2024-04-27T10:23:08.779Z"
      },
      {
        "duration": 0,
        "start_time": "2024-04-27T10:23:08.780Z"
      },
      {
        "duration": 0,
        "start_time": "2024-04-27T10:23:08.782Z"
      },
      {
        "duration": 0,
        "start_time": "2024-04-27T10:23:08.783Z"
      },
      {
        "duration": 0,
        "start_time": "2024-04-27T10:23:08.784Z"
      },
      {
        "duration": 0,
        "start_time": "2024-04-27T10:23:08.785Z"
      },
      {
        "duration": 0,
        "start_time": "2024-04-27T10:23:08.786Z"
      },
      {
        "duration": 0,
        "start_time": "2024-04-27T10:23:08.787Z"
      },
      {
        "duration": 0,
        "start_time": "2024-04-27T10:23:08.788Z"
      },
      {
        "duration": 0,
        "start_time": "2024-04-27T10:23:08.789Z"
      },
      {
        "duration": 0,
        "start_time": "2024-04-27T10:23:08.790Z"
      },
      {
        "duration": 2,
        "start_time": "2024-04-27T10:24:41.377Z"
      },
      {
        "duration": 3,
        "start_time": "2024-04-27T10:24:42.572Z"
      },
      {
        "duration": 323,
        "start_time": "2024-04-27T10:24:43.319Z"
      },
      {
        "duration": 3,
        "start_time": "2024-04-27T10:26:49.507Z"
      },
      {
        "duration": 3,
        "start_time": "2024-04-27T10:26:50.428Z"
      },
      {
        "duration": 326,
        "start_time": "2024-04-27T10:26:51.009Z"
      },
      {
        "duration": 1882,
        "start_time": "2024-04-27T10:26:59.313Z"
      },
      {
        "duration": 741,
        "start_time": "2024-04-27T10:27:01.197Z"
      },
      {
        "duration": 49,
        "start_time": "2024-04-27T10:27:01.939Z"
      },
      {
        "duration": 8,
        "start_time": "2024-04-27T10:27:01.989Z"
      },
      {
        "duration": 6,
        "start_time": "2024-04-27T10:27:01.999Z"
      },
      {
        "duration": 17,
        "start_time": "2024-04-27T10:27:02.006Z"
      },
      {
        "duration": 7,
        "start_time": "2024-04-27T10:27:02.025Z"
      },
      {
        "duration": 894494,
        "start_time": "2024-04-27T10:27:02.034Z"
      },
      {
        "duration": 6,
        "start_time": "2024-04-27T10:41:56.529Z"
      },
      {
        "duration": 38,
        "start_time": "2024-04-27T10:41:56.537Z"
      },
      {
        "duration": 5,
        "start_time": "2024-04-27T10:41:56.577Z"
      },
      {
        "duration": 431,
        "start_time": "2024-04-27T10:41:56.584Z"
      },
      {
        "duration": 3,
        "start_time": "2024-04-27T10:41:57.017Z"
      },
      {
        "duration": 16,
        "start_time": "2024-04-27T10:41:57.023Z"
      },
      {
        "duration": 6,
        "start_time": "2024-04-27T10:41:57.040Z"
      },
      {
        "duration": 4898,
        "start_time": "2024-04-27T10:41:57.048Z"
      },
      {
        "duration": 4,
        "start_time": "2024-04-27T10:42:01.947Z"
      },
      {
        "duration": 11,
        "start_time": "2024-04-27T10:42:01.952Z"
      },
      {
        "duration": 65,
        "start_time": "2024-04-27T10:42:01.964Z"
      },
      {
        "duration": 9,
        "start_time": "2024-04-27T10:42:02.031Z"
      },
      {
        "duration": 32,
        "start_time": "2024-04-27T10:42:02.041Z"
      },
      {
        "duration": 11,
        "start_time": "2024-04-27T10:42:02.075Z"
      },
      {
        "duration": 5357,
        "start_time": "2024-04-27T10:42:02.088Z"
      },
      {
        "duration": 3,
        "start_time": "2024-04-27T10:42:07.446Z"
      },
      {
        "duration": 3,
        "start_time": "2024-04-27T11:41:28.264Z"
      },
      {
        "duration": 3,
        "start_time": "2024-04-27T11:41:29.245Z"
      },
      {
        "duration": 1681,
        "start_time": "2024-04-27T11:42:04.388Z"
      },
      {
        "duration": 732,
        "start_time": "2024-04-27T11:42:06.070Z"
      },
      {
        "duration": 40,
        "start_time": "2024-04-27T11:42:06.803Z"
      },
      {
        "duration": 8,
        "start_time": "2024-04-27T11:42:06.844Z"
      },
      {
        "duration": 6,
        "start_time": "2024-04-27T11:42:06.854Z"
      },
      {
        "duration": 7,
        "start_time": "2024-04-27T11:42:06.862Z"
      },
      {
        "duration": 21,
        "start_time": "2024-04-27T11:42:06.884Z"
      },
      {
        "duration": 917662,
        "start_time": "2024-04-27T11:42:06.906Z"
      },
      {
        "duration": 6,
        "start_time": "2024-04-27T11:57:24.569Z"
      },
      {
        "duration": 59,
        "start_time": "2024-04-27T11:57:24.576Z"
      },
      {
        "duration": 7,
        "start_time": "2024-04-27T11:57:24.636Z"
      },
      {
        "duration": 435,
        "start_time": "2024-04-27T11:57:24.644Z"
      },
      {
        "duration": 4,
        "start_time": "2024-04-27T11:57:25.083Z"
      },
      {
        "duration": 16,
        "start_time": "2024-04-27T11:57:25.090Z"
      },
      {
        "duration": 7,
        "start_time": "2024-04-27T11:57:25.107Z"
      },
      {
        "duration": 4985,
        "start_time": "2024-04-27T11:57:25.115Z"
      },
      {
        "duration": 4,
        "start_time": "2024-04-27T11:57:30.102Z"
      },
      {
        "duration": 70,
        "start_time": "2024-04-27T11:57:30.108Z"
      },
      {
        "duration": 111,
        "start_time": "2024-04-27T11:57:30.180Z"
      },
      {
        "duration": 31,
        "start_time": "2024-04-27T11:57:30.293Z"
      },
      {
        "duration": 56,
        "start_time": "2024-04-27T11:57:30.325Z"
      },
      {
        "duration": 73,
        "start_time": "2024-04-27T11:57:30.382Z"
      },
      {
        "duration": 5433,
        "start_time": "2024-04-27T11:57:30.456Z"
      },
      {
        "duration": 3,
        "start_time": "2024-04-27T11:57:35.891Z"
      },
      {
        "duration": 88,
        "start_time": "2024-04-27T13:55:07.680Z"
      },
      {
        "duration": 2592,
        "start_time": "2024-04-27T13:55:32.323Z"
      },
      {
        "duration": 714,
        "start_time": "2024-04-27T13:55:34.917Z"
      },
      {
        "duration": 36,
        "start_time": "2024-04-27T13:55:35.632Z"
      },
      {
        "duration": 19,
        "start_time": "2024-04-27T13:55:35.669Z"
      },
      {
        "duration": 4,
        "start_time": "2024-04-27T13:55:35.690Z"
      },
      {
        "duration": 6,
        "start_time": "2024-04-27T13:55:35.695Z"
      },
      {
        "duration": 15,
        "start_time": "2024-04-27T13:55:35.703Z"
      },
      {
        "duration": 884815,
        "start_time": "2024-04-27T13:55:35.719Z"
      },
      {
        "duration": 6,
        "start_time": "2024-04-27T14:10:20.535Z"
      },
      {
        "duration": 62,
        "start_time": "2024-04-27T14:10:20.542Z"
      },
      {
        "duration": 6,
        "start_time": "2024-04-27T14:10:20.605Z"
      },
      {
        "duration": 453,
        "start_time": "2024-04-27T14:10:20.612Z"
      },
      {
        "duration": 3,
        "start_time": "2024-04-27T14:10:21.066Z"
      },
      {
        "duration": 18,
        "start_time": "2024-04-27T14:10:21.072Z"
      },
      {
        "duration": 6,
        "start_time": "2024-04-27T14:10:21.091Z"
      },
      {
        "duration": 4958,
        "start_time": "2024-04-27T14:10:21.098Z"
      },
      {
        "duration": 4,
        "start_time": "2024-04-27T14:10:26.057Z"
      },
      {
        "duration": 29,
        "start_time": "2024-04-27T14:10:26.062Z"
      },
      {
        "duration": 70,
        "start_time": "2024-04-27T14:10:26.092Z"
      },
      {
        "duration": 8,
        "start_time": "2024-04-27T14:10:26.163Z"
      },
      {
        "duration": 12,
        "start_time": "2024-04-27T14:10:26.172Z"
      },
      {
        "duration": 8,
        "start_time": "2024-04-27T14:10:26.185Z"
      },
      {
        "duration": 5247,
        "start_time": "2024-04-27T14:10:26.194Z"
      },
      {
        "duration": 3,
        "start_time": "2024-04-27T14:10:31.442Z"
      },
      {
        "duration": 4669,
        "start_time": "2024-04-27T17:28:39.074Z"
      },
      {
        "duration": 3,
        "start_time": "2024-04-27T17:28:43.745Z"
      },
      {
        "duration": 9,
        "start_time": "2024-04-27T17:31:26.926Z"
      },
      {
        "duration": 6,
        "start_time": "2024-04-27T17:31:27.453Z"
      },
      {
        "duration": 4733,
        "start_time": "2024-04-27T17:31:28.751Z"
      },
      {
        "duration": 4,
        "start_time": "2024-04-27T17:31:33.485Z"
      },
      {
        "duration": 2,
        "start_time": "2024-04-27T17:33:02.960Z"
      },
      {
        "duration": 2712,
        "start_time": "2024-04-28T07:35:56.849Z"
      },
      {
        "duration": 2117,
        "start_time": "2024-04-28T07:35:59.563Z"
      },
      {
        "duration": 42,
        "start_time": "2024-04-28T07:36:01.681Z"
      },
      {
        "duration": 8,
        "start_time": "2024-04-28T07:36:01.724Z"
      },
      {
        "duration": 33,
        "start_time": "2024-04-28T07:36:01.733Z"
      },
      {
        "duration": 33,
        "start_time": "2024-04-28T07:36:01.767Z"
      },
      {
        "duration": 27,
        "start_time": "2024-04-28T07:36:01.802Z"
      },
      {
        "duration": 1019001,
        "start_time": "2024-04-28T07:36:01.830Z"
      },
      {
        "duration": 8,
        "start_time": "2024-04-28T07:53:00.832Z"
      },
      {
        "duration": 90,
        "start_time": "2024-04-28T07:53:00.841Z"
      },
      {
        "duration": 35,
        "start_time": "2024-04-28T07:53:00.933Z"
      },
      {
        "duration": 61,
        "start_time": "2024-04-28T07:53:00.970Z"
      },
      {
        "duration": 588,
        "start_time": "2024-04-28T07:53:01.033Z"
      },
      {
        "duration": 4,
        "start_time": "2024-04-28T07:53:01.624Z"
      },
      {
        "duration": 56,
        "start_time": "2024-04-28T07:53:01.629Z"
      },
      {
        "duration": 54,
        "start_time": "2024-04-28T07:53:01.686Z"
      },
      {
        "duration": 5817,
        "start_time": "2024-04-28T07:53:01.741Z"
      },
      {
        "duration": 4,
        "start_time": "2024-04-28T07:53:07.559Z"
      },
      {
        "duration": 19,
        "start_time": "2024-04-28T07:53:07.565Z"
      },
      {
        "duration": 29,
        "start_time": "2024-04-28T07:53:07.586Z"
      },
      {
        "duration": 12,
        "start_time": "2024-04-28T08:09:17.227Z"
      },
      {
        "duration": 149,
        "start_time": "2024-04-28T08:09:20.231Z"
      },
      {
        "duration": 3219,
        "start_time": "2024-04-28T08:16:55.829Z"
      },
      {
        "duration": 3205,
        "start_time": "2024-04-28T08:24:07.861Z"
      },
      {
        "duration": 2107,
        "start_time": "2024-04-28T08:24:13.218Z"
      },
      {
        "duration": 2,
        "start_time": "2024-04-28T08:24:37.134Z"
      },
      {
        "duration": 10019,
        "start_time": "2024-04-28T08:24:53.986Z"
      },
      {
        "duration": 7,
        "start_time": "2024-04-28T08:26:05.327Z"
      },
      {
        "duration": 17,
        "start_time": "2024-04-28T08:26:17.442Z"
      },
      {
        "duration": 9,
        "start_time": "2024-04-28T08:27:16.032Z"
      },
      {
        "duration": 61,
        "start_time": "2024-04-28T08:28:57.794Z"
      },
      {
        "duration": 232824,
        "start_time": "2024-04-28T08:29:04.873Z"
      },
      {
        "duration": 3,
        "start_time": "2024-04-28T08:33:27.244Z"
      },
      {
        "duration": 2907,
        "start_time": "2024-04-28T08:33:41.023Z"
      },
      {
        "duration": 8,
        "start_time": "2024-04-28T08:34:02.135Z"
      },
      {
        "duration": 488,
        "start_time": "2024-04-28T08:35:10.361Z"
      },
      {
        "duration": 21,
        "start_time": "2024-04-28T08:35:20.064Z"
      },
      {
        "duration": 50,
        "start_time": "2024-04-28T08:42:19.603Z"
      },
      {
        "duration": 19,
        "start_time": "2024-04-28T08:44:33.328Z"
      },
      {
        "duration": 18,
        "start_time": "2024-04-28T08:44:41.114Z"
      },
      {
        "duration": 3,
        "start_time": "2024-04-28T08:45:13.620Z"
      },
      {
        "duration": 9724,
        "start_time": "2024-04-28T08:45:13.983Z"
      },
      {
        "duration": 6,
        "start_time": "2024-04-28T08:45:23.709Z"
      },
      {
        "duration": 34,
        "start_time": "2024-04-28T08:45:23.716Z"
      },
      {
        "duration": 2,
        "start_time": "2024-04-28T08:46:04.325Z"
      },
      {
        "duration": 23,
        "start_time": "2024-04-28T08:46:04.848Z"
      },
      {
        "duration": 8,
        "start_time": "2024-04-28T08:46:39.731Z"
      },
      {
        "duration": 9,
        "start_time": "2024-04-28T08:46:47.908Z"
      },
      {
        "duration": 1743,
        "start_time": "2024-04-28T08:46:56.598Z"
      },
      {
        "duration": 753,
        "start_time": "2024-04-28T08:46:58.343Z"
      },
      {
        "duration": 46,
        "start_time": "2024-04-28T08:46:59.097Z"
      },
      {
        "duration": 8,
        "start_time": "2024-04-28T08:46:59.144Z"
      },
      {
        "duration": 21,
        "start_time": "2024-04-28T08:46:59.154Z"
      },
      {
        "duration": 4,
        "start_time": "2024-04-28T08:46:59.176Z"
      },
      {
        "duration": 11,
        "start_time": "2024-04-28T08:46:59.181Z"
      },
      {
        "duration": 945632,
        "start_time": "2024-04-28T08:46:59.194Z"
      },
      {
        "duration": 6,
        "start_time": "2024-04-28T09:02:44.827Z"
      },
      {
        "duration": 62,
        "start_time": "2024-04-28T09:02:44.835Z"
      },
      {
        "duration": 15,
        "start_time": "2024-04-28T09:02:44.898Z"
      },
      {
        "duration": 38,
        "start_time": "2024-04-28T09:02:44.915Z"
      },
      {
        "duration": 520,
        "start_time": "2024-04-28T09:02:44.954Z"
      },
      {
        "duration": 4,
        "start_time": "2024-04-28T09:02:45.476Z"
      },
      {
        "duration": 51,
        "start_time": "2024-04-28T09:02:45.481Z"
      },
      {
        "duration": 6,
        "start_time": "2024-04-28T09:02:45.533Z"
      },
      {
        "duration": 5320,
        "start_time": "2024-04-28T09:02:45.540Z"
      },
      {
        "duration": 5,
        "start_time": "2024-04-28T09:02:50.861Z"
      },
      {
        "duration": 31,
        "start_time": "2024-04-28T09:02:50.867Z"
      },
      {
        "duration": 26,
        "start_time": "2024-04-28T09:02:50.900Z"
      },
      {
        "duration": 39,
        "start_time": "2024-04-28T09:02:50.927Z"
      },
      {
        "duration": 3406,
        "start_time": "2024-04-28T09:02:50.967Z"
      },
      {
        "duration": 3216,
        "start_time": "2024-04-28T09:02:54.374Z"
      },
      {
        "duration": 2238,
        "start_time": "2024-04-28T09:02:57.592Z"
      },
      {
        "duration": 118,
        "start_time": "2024-04-28T09:02:59.832Z"
      },
      {
        "duration": 0,
        "start_time": "2024-04-28T09:02:59.951Z"
      },
      {
        "duration": 0,
        "start_time": "2024-04-28T09:02:59.952Z"
      },
      {
        "duration": 0,
        "start_time": "2024-04-28T09:02:59.953Z"
      },
      {
        "duration": 0,
        "start_time": "2024-04-28T09:02:59.953Z"
      },
      {
        "duration": 0,
        "start_time": "2024-04-28T09:02:59.954Z"
      },
      {
        "duration": 0,
        "start_time": "2024-04-28T09:02:59.954Z"
      },
      {
        "duration": 0,
        "start_time": "2024-04-28T09:02:59.955Z"
      },
      {
        "duration": 0,
        "start_time": "2024-04-28T09:02:59.956Z"
      },
      {
        "duration": 2,
        "start_time": "2024-04-28T09:05:39.601Z"
      },
      {
        "duration": 37454,
        "start_time": "2024-04-28T09:05:42.457Z"
      },
      {
        "duration": 7,
        "start_time": "2024-04-28T09:06:29.744Z"
      },
      {
        "duration": 18,
        "start_time": "2024-04-28T09:06:30.198Z"
      },
      {
        "duration": 5133,
        "start_time": "2024-04-28T09:07:09.399Z"
      },
      {
        "duration": 4,
        "start_time": "2024-04-28T09:07:14.533Z"
      },
      {
        "duration": 1649,
        "start_time": "2024-04-28T09:07:18.396Z"
      },
      {
        "duration": 752,
        "start_time": "2024-04-28T09:07:20.046Z"
      },
      {
        "duration": 44,
        "start_time": "2024-04-28T09:07:20.799Z"
      },
      {
        "duration": 9,
        "start_time": "2024-04-28T09:07:20.844Z"
      },
      {
        "duration": 8,
        "start_time": "2024-04-28T09:07:20.854Z"
      },
      {
        "duration": 16,
        "start_time": "2024-04-28T09:07:20.863Z"
      },
      {
        "duration": 17,
        "start_time": "2024-04-28T09:07:20.881Z"
      },
      {
        "duration": 952301,
        "start_time": "2024-04-28T09:07:20.899Z"
      },
      {
        "duration": 14,
        "start_time": "2024-04-28T09:23:13.201Z"
      },
      {
        "duration": 52,
        "start_time": "2024-04-28T09:23:13.219Z"
      },
      {
        "duration": 7,
        "start_time": "2024-04-28T09:23:13.272Z"
      },
      {
        "duration": 11,
        "start_time": "2024-04-28T09:23:13.280Z"
      },
      {
        "duration": 499,
        "start_time": "2024-04-28T09:23:13.292Z"
      },
      {
        "duration": 4,
        "start_time": "2024-04-28T09:23:13.793Z"
      },
      {
        "duration": 15,
        "start_time": "2024-04-28T09:23:13.804Z"
      },
      {
        "duration": 6,
        "start_time": "2024-04-28T09:23:13.820Z"
      },
      {
        "duration": 5336,
        "start_time": "2024-04-28T09:23:13.827Z"
      },
      {
        "duration": 4,
        "start_time": "2024-04-28T09:23:19.164Z"
      },
      {
        "duration": 13,
        "start_time": "2024-04-28T09:23:19.169Z"
      },
      {
        "duration": 54,
        "start_time": "2024-04-28T09:23:19.183Z"
      },
      {
        "duration": 4,
        "start_time": "2024-04-28T09:23:19.238Z"
      },
      {
        "duration": 3584,
        "start_time": "2024-04-28T09:23:19.244Z"
      },
      {
        "duration": 3338,
        "start_time": "2024-04-28T09:23:22.829Z"
      },
      {
        "duration": 2164,
        "start_time": "2024-04-28T09:23:26.168Z"
      },
      {
        "duration": 2,
        "start_time": "2024-04-28T09:23:28.334Z"
      },
      {
        "duration": 35082,
        "start_time": "2024-04-28T09:23:28.337Z"
      },
      {
        "duration": 89,
        "start_time": "2024-04-28T09:24:03.420Z"
      },
      {
        "duration": 22,
        "start_time": "2024-04-28T09:24:03.512Z"
      },
      {
        "duration": 241395,
        "start_time": "2024-04-28T09:24:03.535Z"
      },
      {
        "duration": 3,
        "start_time": "2024-04-28T09:28:04.932Z"
      },
      {
        "duration": 2826,
        "start_time": "2024-04-28T09:28:04.936Z"
      },
      {
        "duration": 447,
        "start_time": "2024-04-28T09:28:07.764Z"
      },
      {
        "duration": 22,
        "start_time": "2024-04-28T09:28:08.212Z"
      },
      {
        "duration": 2,
        "start_time": "2024-04-28T09:30:04.178Z"
      },
      {
        "duration": 44654,
        "start_time": "2024-04-28T09:30:05.750Z"
      },
      {
        "duration": 8,
        "start_time": "2024-04-28T09:30:50.406Z"
      },
      {
        "duration": 107,
        "start_time": "2024-04-28T09:30:50.415Z"
      },
      {
        "duration": 226143,
        "start_time": "2024-04-28T09:31:16.551Z"
      },
      {
        "duration": 6,
        "start_time": "2024-04-28T09:35:02.695Z"
      },
      {
        "duration": 2773,
        "start_time": "2024-04-28T09:35:02.702Z"
      },
      {
        "duration": 432,
        "start_time": "2024-04-28T09:35:05.477Z"
      },
      {
        "duration": 19,
        "start_time": "2024-04-28T09:35:05.911Z"
      },
      {
        "duration": 3402,
        "start_time": "2024-04-28T15:30:19.933Z"
      },
      {
        "duration": 3271,
        "start_time": "2024-04-28T15:30:25.732Z"
      },
      {
        "duration": 51,
        "start_time": "2024-04-28T15:30:32.884Z"
      },
      {
        "duration": 43,
        "start_time": "2024-04-28T15:33:00.649Z"
      },
      {
        "duration": 2,
        "start_time": "2024-04-28T15:33:05.143Z"
      },
      {
        "duration": 3,
        "start_time": "2024-04-28T15:33:08.919Z"
      },
      {
        "duration": 147,
        "start_time": "2024-04-28T15:33:42.365Z"
      },
      {
        "duration": 63,
        "start_time": "2024-04-28T15:34:20.462Z"
      },
      {
        "duration": 39,
        "start_time": "2024-04-28T15:34:26.195Z"
      },
      {
        "duration": 14,
        "start_time": "2024-04-28T15:34:27.651Z"
      },
      {
        "duration": 64,
        "start_time": "2024-04-28T15:34:48.999Z"
      },
      {
        "duration": 856,
        "start_time": "2024-04-28T15:34:50.151Z"
      },
      {
        "duration": 43,
        "start_time": "2024-04-28T15:34:54.416Z"
      },
      {
        "duration": 2,
        "start_time": "2024-04-28T15:34:57.059Z"
      },
      {
        "duration": 3,
        "start_time": "2024-04-28T15:34:57.935Z"
      },
      {
        "duration": 3,
        "start_time": "2024-04-28T15:35:00.560Z"
      },
      {
        "duration": 1884,
        "start_time": "2024-04-28T15:38:24.092Z"
      },
      {
        "duration": 829,
        "start_time": "2024-04-28T15:38:25.978Z"
      },
      {
        "duration": 49,
        "start_time": "2024-04-28T15:38:26.809Z"
      },
      {
        "duration": 15,
        "start_time": "2024-04-28T15:38:26.860Z"
      },
      {
        "duration": 22,
        "start_time": "2024-04-28T15:38:26.877Z"
      },
      {
        "duration": 44,
        "start_time": "2024-04-28T15:38:26.901Z"
      },
      {
        "duration": 294,
        "start_time": "2024-04-28T15:38:26.947Z"
      },
      {
        "duration": 1122993,
        "start_time": "2024-04-28T15:38:27.242Z"
      },
      {
        "duration": 7,
        "start_time": "2024-04-28T15:57:10.236Z"
      },
      {
        "duration": 35,
        "start_time": "2024-04-28T15:57:10.245Z"
      },
      {
        "duration": 6,
        "start_time": "2024-04-28T15:57:10.282Z"
      },
      {
        "duration": 8,
        "start_time": "2024-04-28T15:57:10.289Z"
      },
      {
        "duration": 545,
        "start_time": "2024-04-28T15:57:10.299Z"
      },
      {
        "duration": 4,
        "start_time": "2024-04-28T15:57:10.847Z"
      },
      {
        "duration": 27,
        "start_time": "2024-04-28T15:57:10.852Z"
      },
      {
        "duration": 13,
        "start_time": "2024-04-28T15:57:10.880Z"
      },
      {
        "duration": 6028,
        "start_time": "2024-04-28T15:57:10.895Z"
      },
      {
        "duration": 4,
        "start_time": "2024-04-28T15:57:16.925Z"
      },
      {
        "duration": 20,
        "start_time": "2024-04-28T15:57:16.930Z"
      },
      {
        "duration": 46,
        "start_time": "2024-04-28T15:57:16.952Z"
      },
      {
        "duration": 4,
        "start_time": "2024-04-28T15:57:16.999Z"
      },
      {
        "duration": 3930,
        "start_time": "2024-04-28T15:57:17.004Z"
      },
      {
        "duration": 3688,
        "start_time": "2024-04-28T15:57:20.936Z"
      },
      {
        "duration": 2437,
        "start_time": "2024-04-28T15:57:24.625Z"
      },
      {
        "duration": 3,
        "start_time": "2024-04-28T15:57:27.063Z"
      },
      {
        "duration": 46927,
        "start_time": "2024-04-28T15:57:27.068Z"
      },
      {
        "duration": 13,
        "start_time": "2024-04-28T15:58:14.076Z"
      },
      {
        "duration": 21,
        "start_time": "2024-04-28T15:58:14.174Z"
      },
      {
        "duration": 294441,
        "start_time": "2024-04-28T15:58:14.197Z"
      },
      {
        "duration": 2,
        "start_time": "2024-04-28T16:03:08.640Z"
      },
      {
        "duration": 3457,
        "start_time": "2024-04-28T16:03:08.644Z"
      },
      {
        "duration": 542,
        "start_time": "2024-04-28T16:03:12.103Z"
      },
      {
        "duration": 29,
        "start_time": "2024-04-28T16:03:12.646Z"
      },
      {
        "duration": 133,
        "start_time": "2024-04-28T17:25:39.119Z"
      },
      {
        "duration": 11,
        "start_time": "2024-04-28T17:32:27.622Z"
      },
      {
        "duration": 12,
        "start_time": "2024-04-28T17:34:41.524Z"
      },
      {
        "duration": 2083,
        "start_time": "2024-04-28T18:41:19.255Z"
      },
      {
        "duration": 986,
        "start_time": "2024-04-28T18:41:21.339Z"
      },
      {
        "duration": 66,
        "start_time": "2024-04-28T18:41:22.326Z"
      },
      {
        "duration": 2,
        "start_time": "2024-04-28T18:41:22.395Z"
      },
      {
        "duration": 6,
        "start_time": "2024-04-28T18:41:22.400Z"
      },
      {
        "duration": 6,
        "start_time": "2024-04-28T18:41:22.408Z"
      },
      {
        "duration": 327,
        "start_time": "2024-04-28T18:41:22.415Z"
      },
      {
        "duration": 1325633,
        "start_time": "2024-04-28T18:41:22.743Z"
      },
      {
        "duration": 11,
        "start_time": "2024-04-28T19:03:28.377Z"
      },
      {
        "duration": 57,
        "start_time": "2024-04-28T19:03:28.393Z"
      },
      {
        "duration": 7,
        "start_time": "2024-04-28T19:03:28.452Z"
      },
      {
        "duration": 14,
        "start_time": "2024-04-28T19:03:28.461Z"
      },
      {
        "duration": 602,
        "start_time": "2024-04-28T19:03:28.478Z"
      },
      {
        "duration": 7,
        "start_time": "2024-04-28T19:03:29.089Z"
      },
      {
        "duration": 24,
        "start_time": "2024-04-28T19:03:29.098Z"
      },
      {
        "duration": 7,
        "start_time": "2024-04-28T19:03:29.124Z"
      },
      {
        "duration": 6818,
        "start_time": "2024-04-28T19:03:29.132Z"
      },
      {
        "duration": 5,
        "start_time": "2024-04-28T19:03:35.952Z"
      },
      {
        "duration": 43,
        "start_time": "2024-04-28T19:03:35.959Z"
      },
      {
        "duration": 156,
        "start_time": "2024-04-28T19:03:36.005Z"
      },
      {
        "duration": 3,
        "start_time": "2024-04-28T19:03:36.163Z"
      },
      {
        "duration": 7348,
        "start_time": "2024-04-28T19:03:36.178Z"
      },
      {
        "duration": 750749,
        "start_time": "2024-04-28T19:03:43.528Z"
      },
      {
        "duration": 21947,
        "start_time": "2024-04-28T19:16:14.279Z"
      },
      {
        "duration": 118147,
        "start_time": "2024-04-28T19:16:36.228Z"
      },
      {
        "duration": 123855,
        "start_time": "2024-04-28T19:28:53.922Z"
      },
      {
        "duration": 129287,
        "start_time": "2024-04-28T19:39:48.992Z"
      },
      {
        "duration": 76,
        "start_time": "2024-04-28T19:48:37.657Z"
      }
    ],
    "kernelspec": {
      "display_name": "Python 3 (ipykernel)",
      "language": "python",
      "name": "python3"
    },
    "language_info": {
      "codemirror_mode": {
        "name": "ipython",
        "version": 3
      },
      "file_extension": ".py",
      "mimetype": "text/x-python",
      "name": "python",
      "nbconvert_exporter": "python",
      "pygments_lexer": "ipython3",
      "version": "3.9.5"
    },
    "toc": {
      "base_numbering": 1,
      "nav_menu": {},
      "number_sections": true,
      "sideBar": true,
      "skip_h1_title": true,
      "title_cell": "Содержание",
      "title_sidebar": "Contents",
      "toc_cell": true,
      "toc_position": {
        "height": "calc(100% - 180px)",
        "left": "10px",
        "top": "150px",
        "width": "302.391px"
      },
      "toc_section_display": true,
      "toc_window_display": false
    },
    "colab": {
      "provenance": [],
      "include_colab_link": true
    }
  },
  "nbformat": 4,
  "nbformat_minor": 0
}